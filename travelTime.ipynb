{
 "cells": [
  {
   "cell_type": "markdown",
   "metadata": {
    "collapsed": true,
    "pycharm": {
     "name": "#%% md\n"
    }
   },
   "source": [
    "This is script will figure out travel times from different runs"
   ]
  },
  {
   "cell_type": "code",
   "execution_count": 2,
   "outputs": [],
   "source": [
    "import argparse\n",
    "import pandas\n",
    "\n",
    "# declare some column names\n",
    "travelTime = 'travelTime'\n",
    "startTime = 'startTime'\n",
    "endTime = 'endTime'\n",
    "id = 'personId'\n",
    "tripNumber = 'tripNo'\n",
    "mode = 'mainMode'\n",
    "\n",
    "def parse_args(args):\n",
    "    parser = argparse.ArgumentParser()\n",
    "    parser.add_argument('-f', '--files', nargs='+', required=True)\n",
    "    parser.add_argument('-n', '--names', nargs='+', required=True)\n",
    "    return parser.parse_args(args)\n",
    "\n",
    "def read_csv(listOfFiles, listOfNames):\n",
    "    \n",
    "    assert(len(listOfFiles) == len(listOfNames)), 'number of files and scenario names should be equal but was: (' + str(len(listOfFiles)) + '/' + str(len(listOfNames)) + ')'\n",
    "    \n",
    "    result_data_frame = pandas.DataFrame({id: [], tripNumber: []})\n",
    "\n",
    "    for file, name in zip(listOfFiles, listOfNames):\n",
    "        scenario = pandas.read_csv(file, usecols=[id, tripNumber, startTime, endTime, mode])\n",
    "        scenario[get_column_name(travelTime, name)] = scenario[endTime] - scenario[startTime]\n",
    "        scenario.rename(\n",
    "            columns={startTime: get_column_name(startTime, name), endTime: get_column_name(endTime, name), mode:get_column_name(mode, name)}, \n",
    "            inplace=True)\n",
    "        result_data_frame = pandas.merge(scenario, result_data_frame, on=[id, tripNumber], how='outer')\n",
    "    return result_data_frame\n",
    "\n",
    "def copy_travel_times(dataFrame, names):\n",
    "    \n",
    "    result = pandas.DataFrame()\n",
    "    for name in names:\n",
    "        result[get_column_name(travelTime, name)] = dataFrame[get_column_name(travelTime, name)]\n",
    "        result[get_column_name(mode, name)] = dataFrame[get_column_name(mode, name)]\n",
    "    return result\n",
    "        \n",
    "def get_column_name(column, scenario):\n",
    "    \n",
    "    return column + '_' + scenario\n"
   ],
   "metadata": {
    "collapsed": false,
    "pycharm": {
     "name": "#%%\n",
     "is_executing": false
    }
   }
  },
  {
   "cell_type": "code",
   "execution_count": 80,
   "outputs": [
    {
     "name": "stdout",
     "text": [
      "    personId  tripNo  startTime_Bike Highways  endTime_Bike Highways  \\\n",
      "0  394783401       0                  39594.0                40353.0   \n",
      "1  394783401       1                  40843.0                41602.0   \n",
      "\n",
      "  mainMode_Bike Highways  travelTime_Bike Highways  startTime_Base Case  \\\n",
      "0                   walk                     759.0              39594.0   \n",
      "1                   walk                     759.0              40843.0   \n",
      "\n",
      "   endTime_Base Case mainMode_Base Case  travelTime_Base Case  \n",
      "0            40353.0               walk                 759.0  \n",
      "1            41602.0               walk                 759.0  \n",
      "          personId  tripNo  startTime_Bike Highways  endTime_Bike Highways  \\\n",
      "0        394783401       0                  39594.0                40353.0   \n",
      "1        394783401       1                  40843.0                41602.0   \n",
      "2       1414039501       0                  24600.0                26803.0   \n",
      "3       1414039501       1                  36300.0                38510.0   \n",
      "4       1414039501       2                  42960.0                44384.0   \n",
      "...            ...     ...                      ...                    ...   \n",
      "135735   880633401       1                  21420.0                24342.0   \n",
      "135736   880633401       2                  60600.0                61729.0   \n",
      "135737   880633401       3                  63660.0                66396.0   \n",
      "135738  1441235601       0                  20405.0                25977.0   \n",
      "135739  1441235601       1                  66113.0                71747.0   \n",
      "\n",
      "       mainMode_Bike Highways  travelTime_Bike Highways  startTime_Base Case  \\\n",
      "0                        walk                     759.0              39594.0   \n",
      "1                        walk                     759.0              40843.0   \n",
      "2                         car                    2203.0              24600.0   \n",
      "3                         car                    2210.0              36300.0   \n",
      "4                         car                    1424.0              42960.0   \n",
      "...                       ...                       ...                  ...   \n",
      "135735                    car                    2922.0              21420.0   \n",
      "135736                    car                    1129.0              60600.0   \n",
      "135737                    car                    2736.0              63660.0   \n",
      "135738                   bike                    5572.0              12990.0   \n",
      "135739                   bike                    5634.0              55477.0   \n",
      "\n",
      "        endTime_Base Case mainMode_Base Case  travelTime_Base Case  \n",
      "0                 40353.0               walk                 759.0  \n",
      "1                 41602.0               walk                 759.0  \n",
      "2                 25974.0                car                1374.0  \n",
      "3                 38648.0                car                2348.0  \n",
      "4                 45346.0                car                2386.0  \n",
      "...                   ...                ...                   ...  \n",
      "135735            24992.0                car                3572.0  \n",
      "135736            61533.0                car                 933.0  \n",
      "135737            66320.0                car                2660.0  \n",
      "135738            15911.0                car                2921.0  \n",
      "135739            58148.0                car                2671.0  \n",
      "\n",
      "[135740 rows x 10 columns]\n"
     ],
     "output_type": "stream"
    }
   ],
   "source": [
    "dataFolder = \"C:\\\\Users\\\\Janek\\\\Desktop\\\\nemo_analysis\\\\\"\n",
    "args = parse_args([\n",
    "    '-f', dataFolder + 'baseCase_continued.csv', dataFolder + 'bike-highways.csv',\n",
    "    '-n', 'Base Case', 'Bike Highways' \n",
    "])\n",
    "\n",
    "data = read_csv(args.files, args.names)\n",
    "a = data[data[id] == 394783401]\n",
    "print(a)\n",
    "\n",
    "print(data)"
   ],
   "metadata": {
    "collapsed": false,
    "pycharm": {
     "name": "#%%\n",
     "is_executing": false
    }
   }
  },
  {
   "cell_type": "code",
   "execution_count": 3,
   "outputs": [
    {
     "traceback": [
      "\u001b[1;31m---------------------------------------------------------------------------\u001b[0m",
      "\u001b[1;31mNameError\u001b[0m                                 Traceback (most recent call last)",
      "\u001b[1;32m<ipython-input-3-5bf695310cc7>\u001b[0m in \u001b[0;36m<module>\u001b[1;34m\u001b[0m\n\u001b[0;32m      1\u001b[0m \u001b[1;31m# get the average travel time by mode\u001b[0m\u001b[1;33m\u001b[0m\u001b[1;33m\u001b[0m\u001b[1;33m\u001b[0m\u001b[0m\n\u001b[1;32m----> 2\u001b[1;33m \u001b[0mtravelTimes\u001b[0m \u001b[1;33m=\u001b[0m \u001b[0mcopy_travel_times\u001b[0m\u001b[1;33m(\u001b[0m\u001b[0mdata\u001b[0m\u001b[1;33m,\u001b[0m \u001b[0margs\u001b[0m\u001b[1;33m.\u001b[0m\u001b[0mnames\u001b[0m\u001b[1;33m)\u001b[0m\u001b[1;33m\u001b[0m\u001b[1;33m\u001b[0m\u001b[0m\n\u001b[0m\u001b[0;32m      3\u001b[0m \u001b[0mgrouped\u001b[0m \u001b[1;33m=\u001b[0m \u001b[0mtravelTimes\u001b[0m\u001b[1;33m.\u001b[0m\u001b[0mgroupby\u001b[0m\u001b[1;33m(\u001b[0m\u001b[0mget_column_name\u001b[0m\u001b[1;33m(\u001b[0m\u001b[0mmode\u001b[0m\u001b[1;33m,\u001b[0m \u001b[0margs\u001b[0m\u001b[1;33m.\u001b[0m\u001b[0mnames\u001b[0m\u001b[1;33m[\u001b[0m\u001b[1;36m0\u001b[0m\u001b[1;33m]\u001b[0m\u001b[1;33m)\u001b[0m\u001b[1;33m)\u001b[0m\u001b[1;33m\u001b[0m\u001b[1;33m\u001b[0m\u001b[0m\n\u001b[0;32m      4\u001b[0m \u001b[0mprint\u001b[0m\u001b[1;33m(\u001b[0m\u001b[0mgrouped\u001b[0m\u001b[1;33m)\u001b[0m\u001b[1;33m\u001b[0m\u001b[1;33m\u001b[0m\u001b[0m\n\u001b[0;32m      5\u001b[0m \u001b[1;33m\u001b[0m\u001b[0m\n",
      "\u001b[1;31mNameError\u001b[0m: name 'data' is not defined"
     ],
     "ename": "NameError",
     "evalue": "name 'data' is not defined",
     "output_type": "error"
    }
   ],
   "source": [
    "# get the average travel time by mode\n",
    "travelTimes = copy_travel_times(data, args.names)\n",
    "grouped = travelTimes.groupby(get_column_name(mode, args.names[0]))\n",
    "print(grouped)\n",
    "\n",
    "\n",
    "\n"
   ],
   "metadata": {
    "collapsed": false,
    "pycharm": {
     "name": "#%%\n",
     "is_executing": false
    }
   }
  }
 ],
 "metadata": {
  "kernelspec": {
   "display_name": "Python 3",
   "language": "python",
   "name": "python3"
  },
  "language_info": {
   "codemirror_mode": {
    "name": "ipython",
    "version": 2
   },
   "file_extension": ".py",
   "mimetype": "text/x-python",
   "name": "python",
   "nbconvert_exporter": "python",
   "pygments_lexer": "ipython2",
   "version": "2.7.6"
  },
  "pycharm": {
   "stem_cell": {
    "cell_type": "raw",
    "source": [],
    "metadata": {
     "collapsed": false
    }
   }
  }
 },
 "nbformat": 4,
 "nbformat_minor": 0
}