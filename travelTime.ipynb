{
 "cells": [
  {
   "cell_type": "markdown",
   "metadata": {
    "collapsed": true,
    "pycharm": {
     "name": "#%% md\n"
    }
   },
   "source": [
    "This is script will figure out travel times from different runs"
   ]
  },
  {
   "cell_type": "code",
   "execution_count": 2,
   "metadata": {
    "pycharm": {
     "is_executing": false,
     "name": "#%%\n"
    }
   },
   "outputs": [],
   "source": [
    "import argparse\n",
    "import pandas\n",
    "\n",
    "# declare some column names\n",
    "travelTime = 'travelTime'\n",
    "startTime = 'startTime'\n",
    "endTime = 'endTime'\n",
    "id = 'personId'\n",
    "tripNumber = 'tripNo'\n",
    "mode = 'mainMode'\n",
    "\n",
    "def parse_args(args):\n",
    "    parser = argparse.ArgumentParser()\n",
    "    parser.add_argument('-f', '--files', nargs='+', required=True)\n",
    "    parser.add_argument('-n', '--names', nargs='+', required=True)\n",
    "    return parser.parse_args(args)\n",
    "\n",
    "def read_csv(listOfFiles, listOfNames):\n",
    "    \n",
    "    assert(len(listOfFiles) == len(listOfNames)), 'number of files and scenario names should be equal but was: (' + str(len(listOfFiles)) + '/' + str(len(listOfNames)) + ')'\n",
    "    \n",
    "    result = []\n",
    "\n",
    "    for file, name in zip(listOfFiles, listOfNames):\n",
    "        scenario = pandas.read_csv(file, usecols=[id, tripNumber, startTime, endTime, mode])\n",
    "        scenario.set_index([id, tripNumber], inplace=True)\n",
    "        scenario.sort_index(inplace=True)\n",
    "        scenario[travelTime] = scenario[endTime] - scenario[startTime]\n",
    "        result.append(scenario)\n",
    "    return result\n",
    "\n",
    "def copy_travel_times(dataFrame, names):\n",
    "    \n",
    "    result = pandas.DataFrame()\n",
    "    for name in names:\n",
    "        result[get_column_name(travelTime, name)] = dataFrame[get_column_name(travelTime, name)]\n",
    "        result[get_column_name(mode, name)] = dataFrame[get_column_name(mode, name)]\n",
    "    return result\n",
    "        \n",
    "def get_column_name(column, scenario):\n",
    "    \n",
    "    return column + '_' + scenario\n"
   ]
  },
  {
   "cell_type": "code",
   "execution_count": 3,
   "metadata": {
    "pycharm": {
     "is_executing": false,
     "name": "#%%\n"
    }
   },
   "outputs": [
    {
     "name": "stdout",
     "output_type": "stream",
     "text": [
      "                           startTime  endTime mainMode  travelTime\n",
      "RunId     personId tripNo                                         \n",
      "Base Case 54804601 0         24903.0  27398.0      car      2495.0\n",
      "                   1         32565.0  34230.0      car      1665.0\n",
      "                   2         34230.0  35390.0      car      1160.0\n",
      "                   3         41131.0  42675.0      car      1544.0\n",
      "                   4         42675.0  43419.0      car       744.0\n",
      "                   5         43419.0  46989.0      car      3570.0\n",
      "          54822301 0         22837.0  25171.0      car      2334.0\n",
      "                   1         49188.0  51108.0      car      1920.0\n",
      "                   2         55531.0  57886.0      car      2355.0\n",
      "          54847601 0         21487.0  24319.0      car      2832.0\n"
     ]
    }
   ],
   "source": [
    "dataFolder = \"C:\\\\Users\\\\Janekdererste\\\\Desktop\\\\nemo_analysis\\\\\"\n",
    "args = parse_args([\n",
    "    '-f', dataFolder + 'base-case.csv', dataFolder + 'deurbanisation.csv',\n",
    "    '-n', 'Base Case', 'Deurbanisation' \n",
    "])\n",
    "\n",
    "dataFrames = read_csv(args.files, args.names)\n",
    "data = pandas.concat(dataFrames, keys=args.names, names=['RunId', id, tripNumber])\n",
    "print(data.head(10))"
   ]
  },
  {
   "cell_type": "code",
   "execution_count": 4,
   "metadata": {
    "pycharm": {
     "is_executing": false,
     "name": "#%%\n"
    }
   },
   "outputs": [],
   "source": [
    "# select the mode and the travel time\n",
    "travelTimes = data[[travelTime, mode]]"
   ]
  },
  {
   "cell_type": "code",
   "execution_count": 5,
   "metadata": {
    "pycharm": {
     "is_executing": false,
     "name": "#%%\n"
    }
   },
   "outputs": [
    {
     "data": {
      "text/plain": [
       "<matplotlib.axes._subplots.AxesSubplot at 0x25de3bcb7c8>"
      ]
     },
     "execution_count": 5,
     "metadata": {},
     "output_type": "execute_result"
    },
    {
     "data": {
      "image/png": "[encoded data removed]",
      "text/plain": [
       "<Figure size 432x288 with 1 Axes>"
      ]
     },
     "metadata": {
      "needs_background": "light"
     },
     "output_type": "display_data"
    }
   ],
   "source": [
    "# group by mode and by run id\n",
    "grouped = travelTimes.groupby([mode, 'RunId']).mean()\n",
    "# unstack the multi-index into two columns for both run ids and then plot\n",
    "grouped.unstack(level='RunId').plot.bar(title='Travel Times')"
   ]
  },
  {
   "cell_type": "code",
   "execution_count": 55,
   "metadata": {
    "pycharm": {
     "is_executing": false,
     "name": "#%%\n"
    }
   },
   "outputs": [
    {
     "name": "stdout",
     "output_type": "stream",
     "text": [
      "                  travelTime                 mainMode                 \\\n",
      "RunId              Base Case Deurbanisation Base Case Deurbanisation   \n",
      "personId   tripNo                                                      \n",
      "54804601   0          2495.0         2920.0       car            car   \n",
      "           1          1665.0         2261.0       car            car   \n",
      "           2          1160.0          866.0       car            car   \n",
      "           3          1544.0         1192.0       car            car   \n",
      "           4           744.0          722.0       car            car   \n",
      "...                      ...            ...       ...            ...   \n",
      "1444331801 3           779.0          922.0       car            car   \n",
      "1444365301 0          2289.0         2289.0        pt             pt   \n",
      "           1          2035.0         2031.0        pt             pt   \n",
      "           2          2750.0         2523.0       car            car   \n",
      "           3          2701.0         2749.0       car            car   \n",
      "\n",
      "                  time difference  \n",
      "RunId                              \n",
      "personId   tripNo                  \n",
      "54804601   0                425.0  \n",
      "           1                596.0  \n",
      "           2               -294.0  \n",
      "           3               -352.0  \n",
      "           4                -22.0  \n",
      "...                           ...  \n",
      "1444331801 3                143.0  \n",
      "1444365301 0                  0.0  \n",
      "           1                 -4.0  \n",
      "           2               -227.0  \n",
      "           3                 48.0  \n",
      "\n",
      "[110297 rows x 5 columns]\n"
     ]
    },
    {
     "data": {
      "text/plain": [
       "<matplotlib.axes._subplots.AxesSubplot at 0x25df5921488>"
      ]
     },
     "execution_count": 55,
     "metadata": {},
     "output_type": "execute_result"
    },
    {
     "data": {
      "image/png": "[encoded data removed]",
      "text/plain": [
       "<Figure size 432x288 with 1 Axes>"
      ]
     },
     "metadata": {
      "needs_background": "light"
     },
     "output_type": "display_data"
    }
   ],
   "source": [
    "# select only rows which have the same mode in both cases\n",
    "\n",
    "unstacked_travel_times = travelTimes.unstack(level='RunId')\n",
    "is_same_mode = unstacked_travel_times[mode,'Base Case'] == unstacked_travel_times[mode, 'Deurbanisation']\n",
    "is_not_same_mode = unstacked_travel_times[mode,'Base Case'] != unstacked_travel_times[mode, 'Deurbanisation']\n",
    "\n",
    "unstacked_travel_times['time difference'] = unstacked_travel_times[travelTime, 'Deurbanisation'] - unstacked_travel_times[travelTime, 'Base Case']\n",
    "#print(unstacked_travel_times)\n",
    "differences_same_mode = unstacked_travel_times[is_same_mode]\n",
    "\n",
    "print(differences_same_mode)\n",
    "\n",
    "#groupby = differences_same_mode.xs([(mode, 'Deurbanisation'), ('time difference','')], axis=1)\n",
    "baseCaseMainMode = differences_same_mode.xs([(mode, 'Base Case'), ('time difference','')], axis=1)\n",
    "mean = baseCaseMainMode.groupby((mode, 'Base Case')).mean()\n",
    "mean.plot.bar()\n",
    "\n",
    "\n",
    "\n",
    "\n"
   ]
  },
  {
   "cell_type": "code",
   "execution_count": null,
   "metadata": {
    "pycharm": {
     "is_executing": false
    }
   },
   "outputs": [],
   "source": []
  }
 ],
 "metadata": {
  "kernelspec": {
   "display_name": "Python 3",
   "language": "python",
   "name": "python3"
  },
  "language_info": {
   "codemirror_mode": {
    "name": "ipython",
    "version": 3
   },
   "file_extension": ".py",
   "mimetype": "text/x-python",
   "name": "python",
   "nbconvert_exporter": "python",
   "pygments_lexer": "ipython3",
   "version": "3.7.6"
  },
  "pycharm": {
   "stem_cell": {
    "cell_type": "raw",
    "metadata": {
     "collapsed": false
    },
    "source": []
   }
  }
 },
 "nbformat": 4,
 "nbformat_minor": 1
}
