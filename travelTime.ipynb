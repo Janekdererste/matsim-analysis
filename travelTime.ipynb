{
 "cells": [
  {
   "cell_type": "markdown",
   "metadata": {
    "collapsed": true,
    "pycharm": {
     "name": "#%% md\n"
    }
   },
   "source": [
    "This is script will figure out travel times from different runs"
   ]
  },
  {
   "cell_type": "code",
   "execution_count": 41,
   "outputs": [],
   "source": [
    "import argparse\n",
    "import pandas\n",
    "\n",
    "# declare some column names\n",
    "travelTime = 'travelTime'\n",
    "startTime = 'startTime'\n",
    "endTime = 'endTime'\n",
    "id = 'personId'\n",
    "tripNumber = 'tripNo'\n",
    "mode = 'mainMode'\n",
    "\n",
    "def parse_args(args):\n",
    "    parser = argparse.ArgumentParser()\n",
    "    parser.add_argument('-f', '--files', nargs='+', required=True)\n",
    "    parser.add_argument('-n', '--names', nargs='+', required=True)\n",
    "    return parser.parse_args(args)\n",
    "\n",
    "def read_csv(listOfFiles, listOfNames):\n",
    "    \n",
    "    assert(len(listOfFiles) == len(listOfNames)), 'number of files and scenario names should be equal but was: (' + str(len(listOfFiles)) + '/' + str(len(listOfNames)) + ')'\n",
    "    \n",
    "    result = []\n",
    "\n",
    "    for file, name in zip(listOfFiles, listOfNames):\n",
    "        scenario = pandas.read_csv(file, usecols=[id, tripNumber, startTime, endTime, mode])\n",
    "        scenario.set_index([id, tripNumber], inplace=True)\n",
    "        scenario.sort_index(inplace=True)\n",
    "        scenario[travelTime] = scenario[endTime] - scenario[startTime]\n",
    "        result.append(scenario)\n",
    "    return result\n",
    "\n",
    "def copy_travel_times(dataFrame, names):\n",
    "    \n",
    "    result = pandas.DataFrame()\n",
    "    for name in names:\n",
    "        result[get_column_name(travelTime, name)] = dataFrame[get_column_name(travelTime, name)]\n",
    "        result[get_column_name(mode, name)] = dataFrame[get_column_name(mode, name)]\n",
    "    return result\n",
    "        \n",
    "def get_column_name(column, scenario):\n",
    "    \n",
    "    return column + '_' + scenario\n"
   ],
   "metadata": {
    "collapsed": false,
    "pycharm": {
     "name": "#%%\n",
     "is_executing": false
    }
   }
  },
  {
   "cell_type": "code",
   "execution_count": 42,
   "outputs": [
    {
     "name": "stdout",
     "text": [
      "                           startTime  endTime mainMode  travelTime\n",
      "RunId     personId tripNo                                         \n",
      "Base Case 54804601 0         27000.0  31106.0      car      4106.0\n",
      "                   1         35220.0  37119.0      car      1899.0\n",
      "                   2         37659.0  38525.0      car       866.0\n",
      "                   3         40500.0  41473.0      car       973.0\n",
      "                   4         41653.0  42352.0      car       699.0\n",
      "                   5         42592.0  45155.0      car      2563.0\n",
      "          54822301 0         20820.0  23278.0      car      2458.0\n",
      "                   1         46800.0  49348.0      car      2548.0\n",
      "                   2         50940.0  52882.0      car      1942.0\n",
      "          54847601 0         18720.0  21370.0      car      2650.0\n"
     ],
     "output_type": "stream"
    }
   ],
   "source": [
    "dataFolder = \"C:\\\\Users\\\\Janekdererste\\\\Desktop\\\\nemo_analysis\\\\\"\n",
    "args = parse_args([\n",
    "    '-f', dataFolder + 'base-case.csv', dataFolder + 'bike-highways.csv',\n",
    "    '-n', 'Base Case', 'Bike Highways' \n",
    "])\n",
    "\n",
    "dataFrames = read_csv(args.files, args.names)\n",
    "data = pandas.concat(dataFrames, keys=args.names, names=['RunId', id, tripNumber])\n",
    "print(data.head(10))"
   ],
   "metadata": {
    "collapsed": false,
    "pycharm": {
     "name": "#%%\n",
     "is_executing": false
    }
   }
  },
  {
   "cell_type": "code",
   "execution_count": 52,
   "outputs": [
    {
     "name": "stdout",
     "text": [
      "                travelTime                mainMode              \n",
      "RunId            Base Case Bike Highways Base Case Bike Highways\n",
      "personId tripNo                                                 \n",
      "54804601 0          4106.0        4601.0       car           car\n",
      "         1          1899.0        2600.0       car           car\n",
      "         2           866.0         977.0       car           car\n",
      "         3           973.0        1431.0       car           car\n",
      "         4           699.0         659.0       car           car\n",
      "         5          2563.0        2791.0       car           car\n",
      "54822301 0          2458.0        2496.0       car           car\n",
      "         1          2548.0        1344.0       car           car\n",
      "         2          1942.0        1573.0       car           car\n",
      "54847601 0          2650.0        2605.0       car           car\n",
      "         1          1615.0        1944.0       car           car\n",
      "         2          4848.0        4114.0       car           car\n",
      "54882301 0          2027.0        2304.0       car           car\n",
      "         1           828.0         836.0       car           car\n",
      "         2          1113.0        2031.0       car           car\n",
      "54892801 0          2118.0        1416.0      walk          bike\n",
      "         1          2118.0        2792.0      walk          bike\n",
      "54896401 0          2498.0        2339.0        pt            pt\n",
      "         1          1182.0         819.0      ride          ride\n",
      "54901901 0           382.0         483.0       car           car\n",
      "         1           692.0         550.0       car           car\n",
      "         2           546.0         546.0       car           car\n",
      "         3           200.0        1315.0       car           car\n",
      "         4          1347.0        1414.0       car           car\n",
      "         5           532.0         636.0       car           car\n",
      "54921101 0          1187.0        1619.0      bike          bike\n",
      "         1          1184.0        1184.0      bike          bike\n",
      "54924701 0          1653.0        1217.0      walk          bike\n",
      "         1          1653.0         796.0      walk          bike\n",
      "54925901 0          1353.0        2113.0       car          bike\n"
     ],
     "output_type": "stream"
    }
   ],
   "source": [
    "# select the mode and the travel time\n",
    "travelTimes = data[[travelTime, mode]]\n",
    "print(travelTimes.unstack(level='RunId').head(30))"
   ],
   "metadata": {
    "collapsed": false,
    "pycharm": {
     "name": "#%%\n",
     "is_executing": false
    }
   }
  },
  {
   "cell_type": "code",
   "execution_count": null,
   "outputs": [],
   "source": [
    "# group by mode and by run id\n",
    "grouped = travelTimes.groupby([mode, 'RunId']).mean()\n",
    "# unstack the multi-index into two columns for both run ids and then plot\n",
    "grouped.unstack().plot.bar(title='Travel Times')"
   ],
   "metadata": {
    "collapsed": false,
    "pycharm": {
     "name": "#%%\n"
    }
   }
  },
  {
   "cell_type": "code",
   "execution_count": 44,
   "outputs": [
    {
     "name": "stdout",
     "text": [
      "                                   fromX         fromY            toX  \\\n",
      "          personId tripNo                                               \n",
      "Base Case 54804601 0       379020.264258  5.705633e+06  388197.224919   \n",
      "                   1       388197.224919  5.714843e+06  387835.177407   \n",
      "                   2       387835.177407  5.710075e+06  390006.181976   \n",
      "                   3       390006.181976  5.710844e+06  393812.335988   \n",
      "                   4       393812.335988  5.709468e+06  392948.319484   \n",
      "                   5       392948.319484  5.710825e+06  379020.264258   \n",
      "          54822301 0       374369.800063  5.702648e+06  383465.963142   \n",
      "                   1       383465.963142  5.720068e+06  375596.005378   \n",
      "                   2       375596.005378  5.714855e+06  374369.800063   \n",
      "          54847601 0       378560.218434  5.701469e+06  407716.500440   \n",
      "\n",
      "                                    toY  startTime  endTime      distance  \\\n",
      "          personId tripNo                                                   \n",
      "Base Case 54804601 0       5.714843e+06    27000.0  31106.0  13001.306360   \n",
      "                   1       5.710075e+06    35220.0  37119.0   4781.294600   \n",
      "                   2       5.710844e+06    37659.0  38525.0   2302.954800   \n",
      "                   3       5.709468e+06    40500.0  41473.0   4047.200370   \n",
      "                   4       5.710825e+06    41653.0  42352.0   1608.864389   \n",
      "                   5       5.705633e+06    42592.0  45155.0  14864.202568   \n",
      "          54822301 0       5.720068e+06    20820.0  23278.0  19651.739046   \n",
      "                   1       5.714855e+06    46800.0  49348.0   9440.114341   \n",
      "                   2       5.702648e+06    50940.0  52882.0  12267.871932   \n",
      "          54847601 0       5.693874e+06    18720.0  21370.0  30129.437690   \n",
      "\n",
      "                          mainMode  \n",
      "          personId tripNo           \n",
      "Base Case 54804601 0           car  \n",
      "                   1           car  \n",
      "                   2           car  \n",
      "                   3           car  \n",
      "                   4           car  \n",
      "                   5           car  \n",
      "          54822301 0           car  \n",
      "                   1           car  \n",
      "                   2           car  \n",
      "          54847601 0           car  \n",
      "                                         fromX         fromY            toX  \\\n",
      "              personId   tripNo                                               \n",
      "Bike Highways 1444328701 8       408430.055006  5.711781e+06  411811.238019   \n",
      "                         9       411811.238019  5.711191e+06  406942.995267   \n",
      "              1444331801 0       408727.137570  5.709550e+06  414046.871284   \n",
      "                         1       414046.871284  5.718146e+06  408206.590915   \n",
      "                         2       408206.590915  5.708982e+06  408393.084955   \n",
      "                         3       408393.084955  5.711721e+06  408727.137570   \n",
      "              1444365301 0       417248.499802  5.712025e+06  409779.847409   \n",
      "                         1       409779.847409  5.709415e+06  417248.499802   \n",
      "                         2       417248.499802  5.712025e+06  405918.597319   \n",
      "                         3       405918.597319  5.710423e+06  417248.499802   \n",
      "\n",
      "                                          toY  startTime  endTime  \\\n",
      "              personId   tripNo                                     \n",
      "Bike Highways 1444328701 8       5.711191e+06    71956.0  72809.0   \n",
      "                         9       5.710562e+06    75360.0  76406.0   \n",
      "              1444331801 0       5.718146e+06    37740.0  38767.0   \n",
      "                         1       5.708982e+06    39487.0  40792.0   \n",
      "                         2       5.711721e+06    40852.0  41696.0   \n",
      "                         3       5.709550e+06    42956.0  44136.0   \n",
      "              1444365301 0       5.709415e+06    51061.0  53625.0   \n",
      "                         1       5.712025e+06    54412.0  56481.0   \n",
      "                         2       5.710423e+06    60992.0  62458.0   \n",
      "                         3       5.712025e+06    62458.0  65555.0   \n",
      "\n",
      "                                     distance mainMode  \n",
      "              personId   tripNo                         \n",
      "Bike Highways 1444328701 8        3432.199906     ride  \n",
      "                         9        4908.780710     ride  \n",
      "              1444331801 0       10109.079707      car  \n",
      "                         1       10867.083539      car  \n",
      "                         2        2746.049749      car  \n",
      "                         3        2197.098074      car  \n",
      "              1444365301 0        7911.298393       pt  \n",
      "                         1        7911.298393       pt  \n",
      "                         2       11442.570637      car  \n",
      "                         3       11442.570637      car  \n"
     ],
     "output_type": "stream"
    }
   ],
   "source": [
    "\n"
   ],
   "metadata": {
    "collapsed": false,
    "pycharm": {
     "name": "#%%\n",
     "is_executing": false
    }
   }
  }
 ],
 "metadata": {
  "kernelspec": {
   "display_name": "Python 3",
   "language": "python",
   "name": "python3"
  },
  "language_info": {
   "codemirror_mode": {
    "name": "ipython",
    "version": 2
   },
   "file_extension": ".py",
   "mimetype": "text/x-python",
   "name": "python",
   "nbconvert_exporter": "python",
   "pygments_lexer": "ipython2",
   "version": "2.7.6"
  },
  "pycharm": {
   "stem_cell": {
    "cell_type": "raw",
    "source": [],
    "metadata": {
     "collapsed": false
    }
   }
  }
 },
 "nbformat": 4,
 "nbformat_minor": 0
}