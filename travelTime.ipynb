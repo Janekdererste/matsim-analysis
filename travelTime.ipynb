{
 "cells": [
  {
   "cell_type": "markdown",
   "metadata": {
    "collapsed": true,
    "pycharm": {
     "name": "#%% md\n"
    }
   },
   "source": [
    "This is script will figure out travel times from different runs"
   ]
  },
  {
   "cell_type": "code",
   "execution_count": 7,
   "outputs": [],
   "source": [
    "import pandas\n",
    "def readReferenceRun(file):\n",
    "    return pandas.read_csv(file)\n",
    "\n",
    "def readComparisonRuns(files):\n",
    "    result = {}\n",
    "    for file in files.items():\n",
    "        \n",
    "        run = pandas.read_csv(file[1])\n",
    "        result[file[0]] = run\n",
    "        \n",
    "    return result"
   ],
   "metadata": {
    "collapsed": false,
    "pycharm": {
     "name": "#%%\n",
     "is_executing": false
    }
   }
  },
  {
   "cell_type": "code",
   "execution_count": 22,
   "outputs": [
    {
     "data": {
      "text/plain": "2019.962962417205"
     },
     "metadata": {},
     "output_type": "execute_result",
     "execution_count": 22
    }
   ],
   "source": [
    "dataFolder = \"C:\\\\Users\\\\Janek\\\\Desktop\\\\nemo_analysis\\\\\"\n",
    "baseCase = readReferenceRun(dataFolder + \"base-case.csv\")\n",
    "policyCases = readComparisonRuns({\"Radschnellwege\": dataFolder + \"bike-highways.csv\"})\n",
    "    \n",
    "# get the overall travel time\n",
    "baseCase['travelTime'] = baseCase['endTime'] - baseCase['startTime']\n",
    "baseCase['travelTime'].sum() / baseCase.shape[0]\n",
    "    \n",
    "\n",
    "\n"
   ],
   "metadata": {
    "collapsed": false,
    "pycharm": {
     "name": "#%%\n",
     "is_executing": false
    }
   }
  }
 ],
 "metadata": {
  "kernelspec": {
   "display_name": "Python 3",
   "language": "python",
   "name": "python3"
  },
  "language_info": {
   "codemirror_mode": {
    "name": "ipython",
    "version": 2
   },
   "file_extension": ".py",
   "mimetype": "text/x-python",
   "name": "python",
   "nbconvert_exporter": "python",
   "pygments_lexer": "ipython2",
   "version": "2.7.6"
  },
  "pycharm": {
   "stem_cell": {
    "cell_type": "raw",
    "source": [],
    "metadata": {
     "collapsed": false
    }
   }
  }
 },
 "nbformat": 4,
 "nbformat_minor": 0
}