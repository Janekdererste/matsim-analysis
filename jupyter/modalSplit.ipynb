{
 "cells": [
  {
   "cell_type": "code",
   "execution_count": 19,
   "metadata": {
    "pycharm": {
     "is_executing": false,
     "name": "#%%\n"
    }
   },
   "outputs": [],
   "source": [
    "import argparse\n",
    "import getopt\n",
    "import pandas\n",
    "import sys\n",
    "from pathlib import Path\n",
    "\n",
    "def mainModeValueCounts(dataFrame, seriesName):\n",
    "    \"This does things\"\n",
    "    counts = dataFrame['mainMode'].value_counts() * 100\n",
    "    counts.name = seriesName  # rename doesn't seem to work, so just assign things here\n",
    "    return counts\n",
    "\n",
    "\n",
    "def getRelative(dataFrame, changedColumns):\n",
    "    \"this also does things\"\n",
    "    result = dataFrame.copy()\n",
    "    for name in changedColumns:\n",
    "        result[name] = dataFrame[name] / dataFrame[name].sum()\n",
    "\n",
    "    return result\n",
    "\n",
    "\n",
    "def read_csv(listOfCsv, listOfNames):\n",
    "    \"This function reads supplied csvs and aggregates modal shares\"\n",
    "    modalSplits = []\n",
    "    for file in listOfCsv:\n",
    "        csv = pandas.read_csv(file, usecols=['mainMode'])\n",
    "        valueCounts = mainModeValueCounts(csv, listOfNames[len(modalSplits)])\n",
    "        modalSplits.append(valueCounts)\n",
    "    return modalSplits\n",
    "\n",
    "def parse_args(args):\n",
    "    parser = argparse.ArgumentParser()\n",
    "    parser.add_argument('-e', '--expected')\n",
    "    parser.add_argument('-f', '--files', nargs='+', required=True)\n",
    "    parser.add_argument('-n', '--names', nargs='+', required=True)\n",
    "    return parser.parse_args(args)\n",
    "    \n"
   ]
  },
  {
   "cell_type": "code",
   "execution_count": 20,
   "metadata": {
    "pycharm": {
     "is_executing": false,
     "name": "#%%\n"
    }
   },
   "outputs": [
    {
     "name": "stdout",
     "output_type": "stream",
     "text": [
      "['c:\\\\users\\\\janekdererste\\\\pycharmprojects\\\\matsim-analysis\\\\venv\\\\lib\\\\site-packages\\\\ipykernel_launcher.py', '-f', 'C:\\\\Users\\\\Janekdererste\\\\AppData\\\\Roaming\\\\jupyter\\\\runtime\\\\kernel-8dff863f-8455-4938-b072-f17f85d8174b.json']\n",
      "Namespace(expected='C:\\\\Users\\\\Janekdererste\\\\Desktop\\\\nemo_analysis\\\\expected-modal-share.csv', files=['C:\\\\Users\\\\Janekdererste\\\\Desktop\\\\nemo_analysis\\\\base-case.csv', 'C:\\\\Users\\\\Janekdererste\\\\Desktop\\\\nemo_analysis\\\\sustainable.csv', 'C:\\\\Users\\\\Janekdererste\\\\Desktop\\\\nemo_analysis\\\\deurbanisation-100.csv', 'C:\\\\Users\\\\Janekdererste\\\\Desktop\\\\nemo_analysis\\\\smartCity.csv'], names=['Basisfall', 'Gesund & Nachhaltig', 'Deurbanisierung', 'Smart City'])\n",
      "      Vergleich  Basisfall  Gesund & Nachhaltig  Deurbanisierung  Smart City\n",
      "pt    1572802.0  1645200.0            1501300.0          1576300     1233600\n",
      "car   5667224.0  5714400.0            1731700.0          4709300     5350400\n",
      "ride  1488973.0  1481000.0            1625900.0          1463000     1481000\n",
      "walk  2909159.0  3544600.0            2840800.0          3370900     3185800\n",
      "bike  1246226.0  1187500.0            6197100.0          1918300     1976800\n",
      "drt         NaN        NaN                  NaN           360500      344300\n"
     ]
    }
   ],
   "source": [
    "print(sys.argv)\n",
    "\n",
    "dataPath = 'C:\\\\Users\\\\Janekdererste\\\\Desktop\\\\nemo_analysis\\\\'\n",
    "expected = 'Vergleich'\n",
    "args = parse_args([\n",
    "    '-e', dataPath + 'expected-modal-share.csv', \n",
    "    '-f', dataPath + 'base-case.csv', dataPath + 'sustainable.csv', dataPath + 'deurbanisation-100.csv', dataPath + 'smartCity.csv',\n",
    "    '-n', 'Basisfall', 'Gesund & Nachhaltig', 'Deurbanisierung', 'Smart City' \n",
    "])\n",
    "print(args)\n",
    "\n",
    "expectedModalShare = pandas.read_csv(args.expected, index_col='mode')\n",
    "\n",
    "modalSplits = read_csv(args.files, args.names)\n",
    "modalSplits.insert(0, expectedModalShare)\n",
    "\n",
    "modalShare = pandas.concat(modalSplits, axis=1, sort=False).rename(\n",
    "    columns={'value': expected})\n",
    "\n",
    "print(modalShare)\n"
   ]
  },
  {
   "cell_type": "code",
   "execution_count": 21,
   "metadata": {
    "pycharm": {
     "is_executing": false,
     "name": "#%%\n"
    }
   },
   "outputs": [
    {
     "name": "stdout",
     "output_type": "stream",
     "text": [
      "number of trips by scenario\n",
      "Vergleich              12884384.0\n",
      "Basisfall              13572700.0\n",
      "Gesund & Nachhaltig    13896800.0\n",
      "Deurbanisierung        13398300.0\n",
      "Smart City             13571900.0\n",
      "dtype: float64\n"
     ]
    }
   ],
   "source": [
    "numberOfTrips = modalShare.aggregate(sum)\n",
    "\n",
    "print('number of trips by scenario')\n",
    "print(numberOfTrips)"
   ]
  },
  {
   "cell_type": "code",
   "execution_count": 22,
   "metadata": {
    "pycharm": {
     "is_executing": false,
     "name": "#%%\n"
    }
   },
   "outputs": [
    {
     "data": {
      "text/plain": [
       "<matplotlib.axes._subplots.AxesSubplot at 0x22f39723208>"
      ]
     },
     "execution_count": 22,
     "metadata": {},
     "output_type": "execute_result"
    },
    {
     "data": {
      "image/png": "[encoded data removed]",
      "text/plain": [
       "<Figure size 432x288 with 1 Axes>"
      ]
     },
     "metadata": {
      "needs_background": "light"
     },
     "output_type": "display_data"
    }
   ],
   "source": [
    "# plot absolute\n",
    "modalShare.plot.bar()"
   ]
  },
  {
   "cell_type": "code",
   "execution_count": 24,
   "metadata": {
    "pycharm": {
     "is_executing": false,
     "name": "#%%\n"
    }
   },
   "outputs": [
    {
     "name": "stdout",
     "output_type": "stream",
     "text": [
      "      Vergleich  Basisfall  Gesund & Nachhaltig  Deurbanisierung  Smart City\n",
      "pt     0.122070   0.121214             0.108032         0.117649    0.090894\n",
      "car    0.439852   0.421022             0.124611         0.351485    0.394226\n",
      "ride   0.115564   0.109116             0.116998         0.109193    0.109123\n",
      "walk   0.225790   0.261157             0.204421         0.251592    0.234735\n",
      "bike   0.096724   0.087492             0.445937         0.143175    0.145654\n",
      "drt         NaN        NaN                  NaN         0.026906    0.025369\n"
     ]
    },
    {
     "data": {
      "text/plain": [
       "<matplotlib.axes._subplots.AxesSubplot at 0x22f3992ae48>"
      ]
     },
     "execution_count": 24,
     "metadata": {},
     "output_type": "execute_result"
    },
    {
     "data": {
      "image/png": "[encoded data removed]",
      "text/plain": [
       "<Figure size 432x288 with 1 Axes>"
      ]
     },
     "metadata": {
      "needs_background": "light"
     },
     "output_type": "display_data"
    }
   ],
   "source": [
    "# copy the scenario names\n",
    "columns = args.names.copy()\n",
    "columns.insert(0, expected)\n",
    "\n",
    "# create a data frame with relative values and plot it\n",
    "relative = getRelative(modalShare, columns)\n",
    "print(relative)\n",
    "relative.plot.bar(title='Modal Share')\n",
    "\n"
   ]
  },
  {
   "cell_type": "code",
   "execution_count": 16,
   "metadata": {
    "pycharm": {
     "is_executing": false
    }
   },
   "outputs": [],
   "source": []
  }
 ],
 "metadata": {
  "kernelspec": {
   "display_name": "Python 3",
   "language": "python",
   "name": "python3"
  },
  "language_info": {
   "codemirror_mode": {
    "name": "ipython",
    "version": 3
   },
   "file_extension": ".py",
   "mimetype": "text/x-python",
   "name": "python",
   "nbconvert_exporter": "python",
   "pygments_lexer": "ipython3",
   "version": "3.7.6"
  },
  "pycharm": {
   "stem_cell": {
    "cell_type": "raw",
    "metadata": {
     "collapsed": false
    },
    "source": []
   }
  }
 },
 "nbformat": 4,
 "nbformat_minor": 1
}
