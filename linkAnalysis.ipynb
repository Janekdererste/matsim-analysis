{
 "cells": [
  {
   "cell_type": "code",
   "execution_count": null,
   "metadata": {
    "collapsed": true
   },
   "outputs": [],
   "source": [
    "import MatsimEventsReader\n",
    "from CommanLineArgs import parse"
   ]
  },
  {
   "cell_type": "code",
   "execution_count": null,
   "outputs": [],
   "source": [
    "class LinkEventCollecor:\n",
    "    \n",
    "    def __init__(self):\n",
    "        self.link_trips = {}\n",
    "        \n",
    "    def add_event(self, time, type, attrs):\n",
    "        if type == 'entered link':\n",
    "            event = LinkEnterEvent(time, attrs)\n",
    "        elif type == 'left link':\n",
    "            event = LinkLeaveEvent(time, attrs)\n",
    "    \n",
    "class LinkEnterEvent(MatsimEventsReader.Event):\n",
    "    \n",
    "    def __init__(self, time, attrs):\n",
    "        super().__init__(time)\n",
    "        self.vehicleId = attrs['vehicle']\n",
    "        self.linkId = attrs['link']\n",
    "        \n",
    "        \n",
    "    \n",
    "class LinkLeaveEvent(MatsimEventsReader.Event):\n",
    "    \n",
    "    def __init__(self, time, attrs):\n",
    "        super().__init__(time)\n",
    "        self.vehicleId = attrs['vehicle']\n",
    "        self.linkId = attrs['link']\n",
    "        \n",
    "    "
   ],
   "metadata": {
    "collapsed": false,
    "pycharm": {
     "name": "#%%\n"
    }
   }
  },
  {
   "cell_type": "code",
   "execution_count": null,
   "outputs": [],
   "source": [
    "dataFolder = \"C:\\\\Users\\\\Janek\\\\Desktop\\\\\"\n",
    "args = parse([\n",
    "    '-f', dataFolder + 'test_events.xml.gz',\n",
    "    '-n', 'Test'\n",
    "])\n",
    "\n",
    "MatsimEventsReader.read(args.files, )\n"
   ],
   "metadata": {
    "collapsed": false,
    "pycharm": {
     "name": "#%%\n"
    }
   }
  }
 ],
 "metadata": {
  "kernelspec": {
   "display_name": "Python 3",
   "language": "python",
   "name": "python3"
  },
  "language_info": {
   "codemirror_mode": {
    "name": "ipython",
    "version": 2
   },
   "file_extension": ".py",
   "mimetype": "text/x-python",
   "name": "python",
   "nbconvert_exporter": "python",
   "pygments_lexer": "ipython2",
   "version": "2.7.6"
  },
  "pycharm": {
   "stem_cell": {
    "cell_type": "raw",
    "source": [],
    "metadata": {
     "collapsed": false
    }
   }
  }
 },
 "nbformat": 4,
 "nbformat_minor": 0
}