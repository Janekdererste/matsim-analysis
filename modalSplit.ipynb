{
 "cells": [
  {
   "cell_type": "code",
   "execution_count": 1,
   "outputs": [],
   "source": [
    "import argparse\n",
    "import getopt\n",
    "import pandas\n",
    "import sys\n",
    "from pathlib import Path\n",
    "\n",
    "def mainModeValueCounts(dataFrame, seriesName):\n",
    "    \"This does things\"\n",
    "    counts = dataFrame['mainMode'].value_counts() * 100\n",
    "    counts.name = seriesName  # rename doesn't seem to work, so just assign things here\n",
    "    return counts\n",
    "\n",
    "\n",
    "def getRelative(dataFrame, changedColumns):\n",
    "    \"this also does things\"\n",
    "    result = dataFrame.copy()\n",
    "    for name in changedColumns:\n",
    "        result[name] = dataFrame[name] / dataFrame[name].sum()\n",
    "\n",
    "    return result\n",
    "\n",
    "\n",
    "def read_csv(listOfCsv, listOfNames):\n",
    "    \"This function reads supplied csvs and aggregates modal shares\"\n",
    "    modalSplits = []\n",
    "    for file in listOfCsv:\n",
    "        csv = pandas.read_csv(file, usecols=['mainMode'])\n",
    "        valueCounts = mainModeValueCounts(csv, listOfNames[len(modalSplits)])\n",
    "        modalSplits.append(valueCounts)\n",
    "    return modalSplits\n",
    "\n",
    "def parse_args(args):\n",
    "    parser = argparse.ArgumentParser()\n",
    "    parser.add_argument('-e', '--expected')\n",
    "    parser.add_argument('-f', '--files', nargs='+', required=True)\n",
    "    parser.add_argument('-n', '--names', nargs='+', required=True)\n",
    "    return parser.parse_args(args)\n",
    "    \n"
   ],
   "metadata": {
    "collapsed": false,
    "pycharm": {
     "name": "#%%\n",
     "is_executing": false
    }
   }
  },
  {
   "cell_type": "code",
   "execution_count": 2,
   "outputs": [
    {
     "name": "stdout",
     "text": [
      "['c:\\\\users\\\\janekdererste\\\\pycharmprojects\\\\matsim-analysis\\\\venv\\\\lib\\\\site-packages\\\\ipykernel_launcher.py', '-f', 'C:\\\\Users\\\\Janekdererste\\\\AppData\\\\Roaming\\\\jupyter\\\\runtime\\\\kernel-fbea937a-9e23-4209-9ef7-aa883835f03f.json']\n",
      "Namespace(expected='C:\\\\Users\\\\Janekdererste\\\\Desktop\\\\nemo_analysis\\\\expected-modal-share.csv', files=['C:\\\\Users\\\\Janekdererste\\\\Desktop\\\\nemo_analysis\\\\base-case.csv', 'C:\\\\Users\\\\Janekdererste\\\\Desktop\\\\nemo_analysis\\\\deurbanisation.csv'], names=['Basisfall', 'Deurbanisierung'])\n",
      "      Vergleich  Basisfall  Deurbanisierung\n",
      "pt    1572802.0  1645200.0          1421200\n",
      "car   5667224.0  5714400.0          4721100\n",
      "ride  1488973.0  1481000.0          1451500\n",
      "walk  2909159.0  3544600.0          3567300\n",
      "bike  1246226.0  1187500.0          1899300\n",
      "drt         NaN        NaN           358900\n"
     ],
     "output_type": "stream"
    }
   ],
   "source": [
    "print(sys.argv)\n",
    "\n",
    "dataPath = 'C:\\\\Users\\\\Janekdererste\\\\Desktop\\\\nemo_analysis\\\\'\n",
    "expected = 'Vergleich'\n",
    "args = parse_args([\n",
    "    '-e', dataPath + 'expected-modal-share.csv', \n",
    "    '-f', dataPath + 'base-case.csv', dataPath + 'deurbanisation.csv',\n",
    "    '-n', 'Basisfall', 'Deurbanisierung' \n",
    "])\n",
    "print(args)\n",
    "\n",
    "expectedModalShare = pandas.read_csv(args.expected, index_col='mode')\n",
    "\n",
    "modalSplits = read_csv(args.files, args.names)\n",
    "modalSplits.insert(0, expectedModalShare)\n",
    "\n",
    "modalShare = pandas.concat(modalSplits, axis=1, sort=False).rename(\n",
    "    columns={'value': expected})\n",
    "\n",
    "print(modalShare)\n"
   ],
   "metadata": {
    "collapsed": false,
    "pycharm": {
     "name": "#%%\n",
     "is_executing": false
    }
   }
  },
  {
   "cell_type": "code",
   "execution_count": 3,
   "outputs": [
    {
     "name": "stdout",
     "text": [
      "number of trips by scenario\n",
      "Vergleich          12884384.0\n",
      "Basisfall          13572700.0\n",
      "Deurbanisierung    13419300.0\n",
      "dtype: float64\n"
     ],
     "output_type": "stream"
    }
   ],
   "source": [
    "numberOfTrips = modalShare.aggregate(sum)\n",
    "\n",
    "print('number of trips by scenario')\n",
    "print(numberOfTrips)"
   ],
   "metadata": {
    "collapsed": false,
    "pycharm": {
     "name": "#%%\n",
     "is_executing": false
    }
   }
  },
  {
   "cell_type": "code",
   "execution_count": 4,
   "outputs": [
    {
     "data": {
      "text/plain": "<matplotlib.axes._subplots.AxesSubplot at 0x261c7ba1548>"
     },
     "metadata": {},
     "output_type": "execute_result",
     "execution_count": 4
    },
    {
     "data": {
      "text/plain": "<Figure size 432x288 with 1 Axes>",
      "image/png": "[encoded data removed]"
     },
     "metadata": {
      "needs_background": "light"
     },
     "output_type": "display_data"
    }
   ],
   "source": [
    "# plot absolute\n",
    "modalShare.plot.bar()"
   ],
   "metadata": {
    "collapsed": false,
    "pycharm": {
     "name": "#%%\n",
     "is_executing": false
    }
   }
  },
  {
   "cell_type": "code",
   "execution_count": 5,
   "outputs": [
    {
     "data": {
      "text/plain": "<matplotlib.axes._subplots.AxesSubplot at 0x261c9d58e88>"
     },
     "metadata": {},
     "output_type": "execute_result",
     "execution_count": 5
    },
    {
     "data": {
      "text/plain": "<Figure size 432x288 with 1 Axes>",
      "image/png": "[encoded data removed]"
     },
     "metadata": {
      "needs_background": "light"
     },
     "output_type": "display_data"
    }
   ],
   "source": [
    "# copy the scenario names\n",
    "columns = args.names.copy()\n",
    "columns.insert(0, expected)\n",
    "\n",
    "# create a data frame with relative values and plot it\n",
    "relative = getRelative(modalShare, columns)\n",
    "relative.plot.bar()\n",
    "\n"
   ],
   "metadata": {
    "collapsed": false,
    "pycharm": {
     "name": "#%%\n",
     "is_executing": false
    }
   }
  }
 ],
 "metadata": {
  "kernelspec": {
   "name": "python3",
   "language": "python",
   "display_name": "Python 3"
  },
  "language_info": {
   "codemirror_mode": {
    "name": "ipython",
    "version": 2
   },
   "file_extension": ".py",
   "mimetype": "text/x-python",
   "name": "python",
   "nbconvert_exporter": "python",
   "pygments_lexer": "ipython2",
   "version": "2.7.6"
  },
  "pycharm": {
   "stem_cell": {
    "cell_type": "raw",
    "source": [],
    "metadata": {
     "collapsed": false
    }
   }
  }
 },
 "nbformat": 4,
 "nbformat_minor": 0
}