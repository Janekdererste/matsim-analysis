{
 "cells": [
  {
   "cell_type": "code",
   "execution_count": 18,
   "outputs": [],
   "source": [
    "import pandas\n",
    "import matplotlib\n",
    "from pathlib import Path\n",
    "\n",
    "\n",
    "\n",
    "def mainModeValueCounts(dataFrame, seriesName):\n",
    "    \"This does things\"\n",
    "    counts = dataFrame['mainMode'].value_counts() * 100\n",
    "    counts.name = seriesName  # rename doesn't seem to work, so just assign things here\n",
    "    return counts\n",
    "\n",
    "\n",
    "def getRelative(dataFrame, changedColumns):\n",
    "    \"this also does things\"\n",
    "    result = dataFrame.copy()\n",
    "    for name in changedColumns:\n",
    "        result[name] = dataFrame[name] / dataFrame[name].sum()\n",
    "\n",
    "    return result\n",
    "\n",
    "\n",
    "def read_csv(listOfCsv):\n",
    "    \"This function reads supplied csvs and aggregates modal shares\"\n",
    "    modalSplits = []\n",
    "    for file in listOfCsv:\n",
    "        csv = pandas.read_csv(dataPath + file, usecols=['mainMode'])\n",
    "        valueCounts = mainModeValueCounts(csv, Path(file).stem)\n",
    "        modalSplits.append(valueCounts)\n",
    "    return modalSplits\n"
   ],
   "metadata": {
    "collapsed": false,
    "pycharm": {
     "name": "#%%\n",
     "is_executing": false
    }
   }
  },
  {
   "cell_type": "code",
   "execution_count": 19,
   "outputs": [
    {
     "name": "stdout",
     "text": [
      "       expected  baseCase_continued  nemo-bikeHighways  deurbanisation_02\n",
      "pt    1572802.0           1628300.0          1317900.0            1421200\n",
      "car   5667224.0           5896600.0          5385600.0            4721100\n",
      "ride  1488973.0           1481100.0          1481100.0            1451500\n",
      "walk  2909159.0           3607400.0          3287400.0            3567300\n",
      "bike  1246226.0            960600.0          2102000.0            1899300\n",
      "drt         NaN                 NaN                NaN             358900\n"
     ],
     "output_type": "stream"
    }
   ],
   "source": [
    "dataPath = 'C:\\\\Users\\\\Janekdererste\\\\Desktop\\\\nemo_analysis\\\\'\n",
    "\n",
    "expectedModalShare = pandas.read_csv(\n",
    "    dataPath + 'expected-modal-share.csv', index_col='mode')\n",
    "\n",
    "modalSplits = read_csv(['baseCase_continued.csv', 'nemo-bikeHighways.csv', 'deurbanisation_02.csv'])\n",
    "modalSplits.insert(0, expectedModalShare)\n",
    "\n",
    "modalShare = pandas.concat(modalSplits, axis=1, sort=False).rename(\n",
    "    columns={'trips': 'expected'})\n",
    "\n",
    "print(modalShare)\n"
   ],
   "metadata": {
    "collapsed": false,
    "pycharm": {
     "name": "#%%\n",
     "is_executing": false
    }
   }
  },
  {
   "cell_type": "code",
   "execution_count": 20,
   "outputs": [
    {
     "name": "stdout",
     "text": [
      "number of trips by scenario\n",
      "expected              12884384.0\n",
      "baseCase_continued    13574000.0\n",
      "nemo-bikeHighways     13574000.0\n",
      "deurbanisation_02     13419300.0\n",
      "dtype: float64\n"
     ],
     "output_type": "stream"
    }
   ],
   "source": [
    "numberOfTrips = modalShare.aggregate(sum)\n",
    "\n",
    "print('number of trips by scenario')\n",
    "print(numberOfTrips)"
   ],
   "metadata": {
    "collapsed": false,
    "pycharm": {
     "name": "#%%\n",
     "is_executing": false
    }
   }
  },
  {
   "cell_type": "code",
   "execution_count": 21,
   "outputs": [
    {
     "data": {
      "text/plain": "<matplotlib.axes._subplots.AxesSubplot at 0x24bb2c41cc8>"
     },
     "metadata": {},
     "output_type": "execute_result",
     "execution_count": 21
    },
    {
     "data": {
      "text/plain": "<Figure size 432x288 with 1 Axes>",
      "image/png": "[encoded data removed]"
     },
     "metadata": {
      "needs_background": "light"
     },
     "output_type": "display_data"
    }
   ],
   "source": [
    "# plot absolute\n",
    "modalShare.plot.bar()"
   ],
   "metadata": {
    "collapsed": false,
    "pycharm": {
     "name": "#%%\n",
     "is_executing": false
    }
   }
  },
  {
   "cell_type": "code",
   "execution_count": 22,
   "outputs": [
    {
     "data": {
      "text/plain": "<matplotlib.axes._subplots.AxesSubplot at 0x24bb24a1288>"
     },
     "metadata": {},
     "output_type": "execute_result",
     "execution_count": 22
    },
    {
     "data": {
      "text/plain": "<Figure size 432x288 with 1 Axes>",
      "image/png": "[encoded data removed]"
     },
     "metadata": {
      "needs_background": "light"
     },
     "output_type": "display_data"
    }
   ],
   "source": [
    "# plot relative\n",
    "# this should somehow work automagically\n",
    "relative = getRelative(modalShare, ['expected', 'baseCase_continued', 'nemo-bikeHighways', 'deurbanisation_02'])\n",
    "relative.plot.bar()\n",
    "\n"
   ],
   "metadata": {
    "collapsed": false,
    "pycharm": {
     "name": "#%%\n",
     "is_executing": false
    }
   }
  }
 ],
 "metadata": {
  "kernelspec": {
   "name": "python3",
   "language": "python",
   "display_name": "Python 3"
  },
  "language_info": {
   "codemirror_mode": {
    "name": "ipython",
    "version": 2
   },
   "file_extension": ".py",
   "mimetype": "text/x-python",
   "name": "python",
   "nbconvert_exporter": "python",
   "pygments_lexer": "ipython2",
   "version": "2.7.6"
  },
  "pycharm": {
   "stem_cell": {
    "cell_type": "raw",
    "source": [],
    "metadata": {
     "collapsed": false
    }
   }
  }
 },
 "nbformat": 4,
 "nbformat_minor": 0
}