{
 "cells": [
  {
   "cell_type": "code",
   "execution_count": 54,
   "outputs": [],
   "source": [
    "import argparse\n",
    "import getopt\n",
    "import pandas\n",
    "import sys\n",
    "from pathlib import Path\n",
    "\n",
    "def mainModeValueCounts(dataFrame, seriesName):\n",
    "    \"This does things\"\n",
    "    counts = dataFrame['mainMode'].value_counts() * 100\n",
    "    counts.name = seriesName  # rename doesn't seem to work, so just assign things here\n",
    "    return counts\n",
    "\n",
    "\n",
    "def getRelative(dataFrame, changedColumns):\n",
    "    \"this also does things\"\n",
    "    result = dataFrame.copy()\n",
    "    for name in changedColumns:\n",
    "        result[name] = dataFrame[name] / dataFrame[name].sum()\n",
    "\n",
    "    return result\n",
    "\n",
    "\n",
    "def read_csv(listOfCsv, listOfNames):\n",
    "    \"This function reads supplied csvs and aggregates modal shares\"\n",
    "    modalSplits = []\n",
    "    for file in listOfCsv:\n",
    "        csv = pandas.read_csv(file, usecols=['mainMode'])\n",
    "        valueCounts = mainModeValueCounts(csv, listOfNames[len(modalSplits)])\n",
    "        modalSplits.append(valueCounts)\n",
    "    return modalSplits\n",
    "\n",
    "def parse_args(args):\n",
    "    parser = argparse.ArgumentParser()\n",
    "    parser.add_argument('-e', '--expected')\n",
    "    parser.add_argument('-f', '--files', nargs='+', required=True)\n",
    "    parser.add_argument('-n', '--names', nargs='+', required=True)\n",
    "    return parser.parse_args(args)\n",
    "    \n"
   ],
   "metadata": {
    "collapsed": false,
    "pycharm": {
     "name": "#%%\n",
     "is_executing": false
    }
   }
  },
  {
   "cell_type": "code",
   "execution_count": 61,
   "outputs": [
    {
     "name": "stdout",
     "text": [
      "['c:\\\\users\\\\janek\\\\pycharmprojects\\\\matsim-analysis\\\\venv\\\\lib\\\\site-packages\\\\ipykernel_launcher.py', '-f', 'C:\\\\Users\\\\Janek\\\\AppData\\\\Roaming\\\\jupyter\\\\runtime\\\\kernel-fbdb24d8-9b7b-4401-923a-41ea86075146.json']\n",
      "Namespace(expected='C:\\\\Users\\\\Janek\\\\Desktop\\\\nemo_analysis\\\\expected-modal-share.csv', files=['C:\\\\Users\\\\Janek\\\\Desktop\\\\nemo_analysis\\\\base-case.csv', 'C:\\\\Users\\\\Janek\\\\Desktop\\\\nemo_analysis\\\\bike-highways.csv'], names=['Base-Case', 'Bike-Highways'])\n",
      "      Vergleich  Base-Case  Bike-Highways\n",
      "pt      1572802    1645200        1317900\n",
      "car     5667224    5714400        5385600\n",
      "ride    1488973    1481000        1481100\n",
      "walk    2909159    3544600        3287400\n",
      "bike    1246226    1187500        2102000\n"
     ],
     "output_type": "stream"
    }
   ],
   "source": [
    "print(sys.argv)\n",
    "\n",
    "dataPath = 'C:\\\\Users\\\\Janek\\\\Desktop\\\\nemo_analysis\\\\'\n",
    "expected = 'Vergleich'\n",
    "args = parse_args([\n",
    "    '-e', dataPath + 'expected-modal-share.csv', \n",
    "    '-f', dataPath + 'base-case.csv', dataPath + 'bike-highways.csv',\n",
    "    '-n', 'Base-Case', 'Bike-Highways' \n",
    "])\n",
    "print(args)\n",
    "\n",
    "expectedModalShare = pandas.read_csv(args.expected, index_col='mode')\n",
    "\n",
    "modalSplits = read_csv(args.files, args.names)\n",
    "modalSplits.insert(0, expectedModalShare)\n",
    "\n",
    "modalShare = pandas.concat(modalSplits, axis=1, sort=False).rename(\n",
    "    columns={'value': expected})\n",
    "\n",
    "print(modalShare)\n"
   ],
   "metadata": {
    "collapsed": false,
    "pycharm": {
     "name": "#%%\n",
     "is_executing": false
    }
   }
  },
  {
   "cell_type": "code",
   "execution_count": 56,
   "outputs": [
    {
     "name": "stdout",
     "text": [
      "number of trips by scenario\n",
      "Vergleich        12884384\n",
      "Base-Case        13572700\n",
      "Bike-Highways    13574000\n",
      "dtype: int64\n"
     ],
     "output_type": "stream"
    }
   ],
   "source": [
    "numberOfTrips = modalShare.aggregate(sum)\n",
    "\n",
    "print('number of trips by scenario')\n",
    "print(numberOfTrips)"
   ],
   "metadata": {
    "collapsed": false,
    "pycharm": {
     "name": "#%%\n",
     "is_executing": false
    }
   }
  },
  {
   "cell_type": "code",
   "execution_count": null,
   "outputs": [],
   "source": [
    "# plot absolute\n",
    "modalShare.plot.bar()"
   ],
   "metadata": {
    "collapsed": false,
    "pycharm": {
     "name": "#%%\n",
     "is_executing": false
    }
   }
  },
  {
   "cell_type": "code",
   "execution_count": 62,
   "outputs": [
    {
     "data": {
      "text/plain": "<matplotlib.axes._subplots.AxesSubplot at 0x279e0e52248>"
     },
     "metadata": {},
     "output_type": "execute_result",
     "execution_count": 62
    },
    {
     "data": {
      "text/plain": "<Figure size 432x288 with 1 Axes>",
      "image/png": "[encoded data removed]"
     },
     "metadata": {
      "needs_background": "light"
     },
     "output_type": "display_data"
    }
   ],
   "source": [
    "# copy the scenario names\n",
    "columns = args.names.copy()\n",
    "columns.insert(0, expected)\n",
    "\n",
    "# create a data frame with relative values and plot it\n",
    "relative = getRelative(modalShare, columns)\n",
    "relative.plot.bar()\n",
    "\n"
   ],
   "metadata": {
    "collapsed": false,
    "pycharm": {
     "name": "#%%\n",
     "is_executing": false
    }
   }
  }
 ],
 "metadata": {
  "kernelspec": {
   "name": "python3",
   "language": "python",
   "display_name": "Python 3"
  },
  "language_info": {
   "codemirror_mode": {
    "name": "ipython",
    "version": 2
   },
   "file_extension": ".py",
   "mimetype": "text/x-python",
   "name": "python",
   "nbconvert_exporter": "python",
   "pygments_lexer": "ipython2",
   "version": "2.7.6"
  },
  "pycharm": {
   "stem_cell": {
    "cell_type": "raw",
    "source": [],
    "metadata": {
     "collapsed": false
    }
   }
  }
 },
 "nbformat": 4,
 "nbformat_minor": 0
}